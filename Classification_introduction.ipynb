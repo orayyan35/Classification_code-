{
 "cells": [
  {
   "cell_type": "code",
   "execution_count": 116,
   "id": "e2697070",
   "metadata": {},
   "outputs": [],
   "source": [
    "import pandas as pd\n",
    "import numpy as np\n",
    "import matplotlib.pyplot as plt\n",
    "import seaborn as sns"
   ]
  },
  {
   "cell_type": "code",
   "execution_count": 117,
   "id": "9042dacd",
   "metadata": {},
   "outputs": [],
   "source": [
    " \n",
    "data = {'name': ['ahmad', 'hamed', 'mona', 'syd', 'lbna'],\n",
    "        'Weight': [70, 88, 91, 65, 79],\n",
    "        'age': [18, 22, 38, 21, 25],\n",
    "        'Anemia': [1, 0, 0, 1, 1],\n",
    "        'sick': [1, 1, 1, 0, 0]}\n",
    "df = pd.DataFrame(data)\n",
    "df_x0=np.ones((5,1))\n",
    "df.insert(1, \"x0\", df_x0)\n",
    " "
   ]
  },
  {
   "cell_type": "code",
   "execution_count": 118,
   "id": "c179dff4",
   "metadata": {},
   "outputs": [],
   "source": [
    "\n",
    "def Classification(theta, alpha, m, x, x_T, y):\n",
    "    def theta_dot_x(theta, x):\n",
    "        theta_dot_x_result = np.dot(x, theta)\n",
    "        return theta_dot_x_result\n",
    "\n",
    "    def theta_dot_x_subtract_y(theta_dot_x, y):\n",
    "        theta_dot_x_subtract = theta_dot_x - y.values.reshape(-1, 1)\n",
    "        return theta_dot_x_subtract\n",
    "\n",
    "    def dot_xT_by_theta_dot_x_subtract_y(theta_dot_x_subtract, x_T):\n",
    "        dot_xT_by_theta_dot_x_subtract = np.dot(x_T, theta_dot_x_subtract)\n",
    "        return dot_xT_by_theta_dot_x_subtract\n",
    "    def dot_alph_m_dot_xT_by_theta_dot_x_subtract(m , alpha ,dot_xT_by_theta_dot_x_subtract_result):\n",
    "        result = alpha/m \n",
    "        dot_alph_m_dot_xT_by_theta_dot_x_subtract = result* dot_xT_by_theta_dot_x_subtract_result \n",
    "        return dot_alph_m_dot_xT_by_theta_dot_x_subtract \n",
    "    def theta_gd( theta , dot_alph_m_dot_xT_by_theta_dot_x_subtract  ):\n",
    "        theta = theta - dot_alph_m_dot_xT_by_theta_dot_x_subtract \n",
    "        return theta \n",
    "    theta_dot_x_result = theta_dot_x(theta, x)\n",
    "    theta_dot_x_subtract_result = theta_dot_x_subtract_y(theta_dot_x_result, y)\n",
    "    dot_xT_by_theta_dot_x_subtract_result = dot_xT_by_theta_dot_x_subtract_y(theta_dot_x_subtract_result, x_T)\n",
    "    dot_alph_m_dot_xT_by_theta_dot_x_subtract = dot_alph_m_dot_xT_by_theta_dot_x_subtract(m , alpha ,dot_xT_by_theta_dot_x_subtract_result)\n",
    "    theta_gd = theta_gd( theta , dot_alph_m_dot_xT_by_theta_dot_x_subtract  )\n",
    "    print('theta_dot_x_result')\n",
    "    print(theta_dot_x_result)\n",
    "    print(\"---------------------\")\n",
    "    print(\"theta_dot_x_subtract_result\")\n",
    "    print(theta_dot_x_subtract_result)\n",
    "    print(\"---------------------\")\n",
    "    print('dot_xT_by_theta_dot_x_subtract_result')\n",
    "    print(dot_xT_by_theta_dot_x_subtract_result)\n",
    "    print(\"---------------------\")\n",
    "    print('dot_alph_m_dot_xT_by_theta_dot_x_subtract')\n",
    "    print(dot_alph_m_dot_xT_by_theta_dot_x_subtract)\n",
    "    print(\"---------------------\")\n",
    "    print('theta_gd')\n",
    "    print(theta_gd)"
   ]
  },
  {
   "cell_type": "code",
   "execution_count": 119,
   "id": "1949d5a4",
   "metadata": {},
   "outputs": [],
   "source": [
    "\n",
    "theta = np.ones((4,1))\n",
    "x = df.drop([\"name\"], axis=1)\n",
    "x = x.drop([\"sick\"], axis=1)\n",
    "\n",
    "x_T = x.transpose()\n",
    "y = df[\"sick\"]\n",
    "m = len(df)\n",
    "alpha = 0.5\n"
   ]
  },
  {
   "cell_type": "code",
   "execution_count": 120,
   "id": "be17268d",
   "metadata": {},
   "outputs": [
    {
     "name": "stdout",
     "output_type": "stream",
     "text": [
      "theta_dot_x_result\n",
      "[[ 90.]\n",
      " [111.]\n",
      " [130.]\n",
      " [ 88.]\n",
      " [106.]]\n",
      "---------------------\n",
      "theta_dot_x_subtract_result\n",
      "[[ 89.]\n",
      " [110.]\n",
      " [129.]\n",
      " [ 88.]\n",
      " [106.]]\n",
      "---------------------\n",
      "dot_xT_by_theta_dot_x_subtract_result\n",
      "[[  522.]\n",
      " [41743.]\n",
      " [13422.]\n",
      " [  283.]]\n",
      "---------------------\n",
      "dot_alph_m_dot_xT_by_theta_dot_x_subtract\n",
      "[[  52.2]\n",
      " [4174.3]\n",
      " [1342.2]\n",
      " [  28.3]]\n",
      "---------------------\n",
      "theta_gd\n",
      "[[  -51.2]\n",
      " [-4173.3]\n",
      " [-1341.2]\n",
      " [  -27.3]]\n"
     ]
    }
   ],
   "source": [
    "\n",
    "Classification(theta, alpha, m, x, x_T, y)\n"
   ]
  },
  {
   "cell_type": "code",
   "execution_count": null,
   "id": "92e08888",
   "metadata": {},
   "outputs": [],
   "source": []
  }
 ],
 "metadata": {
  "kernelspec": {
   "display_name": "Python 3 (ipykernel)",
   "language": "python",
   "name": "python3"
  },
  "language_info": {
   "codemirror_mode": {
    "name": "ipython",
    "version": 3
   },
   "file_extension": ".py",
   "mimetype": "text/x-python",
   "name": "python",
   "nbconvert_exporter": "python",
   "pygments_lexer": "ipython3",
   "version": "3.11.4"
  }
 },
 "nbformat": 4,
 "nbformat_minor": 5
}
